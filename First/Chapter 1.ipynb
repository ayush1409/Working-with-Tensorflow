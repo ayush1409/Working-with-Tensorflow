{
 "cells": [
  {
   "cell_type": "markdown",
   "metadata": {},
   "source": [
    "## General Flow of Tensorflow Algorithm\n",
    "\n",
    "1. Import data set\n",
    "\n",
    "2. Transform and Normalise data\n",
    "         data = tf.nn.batch_north_with_global_normalisation(...)\n",
    "\n",
    "3. Partition the data set into train test and validation sets\n",
    "\n",
    "4. Set the algorithm parameters(hyperparameters) : TensorFlow will modify/adjust the variables and weight/bias\n",
    "    during optimization to minimize a loss function. To accomplish this, we feed in data\n",
    "    through placeholders. We need to initialize both of these variables and placeholders\n",
    "    with size and type, so that TensorFlow knows what to expect\n",
    "        example, learning_rate = 0.01\n",
    "        batch = 100\n",
    "        iterations = 1000\n",
    "\n",
    "5. initialise the variable and placeholders\n",
    "        example, a_var = tf.constant(32)\n",
    "        x_input = tf.placeholder(tf.float32, [None, input_size])\n",
    "        y_input = tf.placeholder(tf.float32, [None, Num_classes])\n",
    "\n",
    "6. Define the model structure\n",
    "        y_pred = tf.add(tf.mul(x_input, weight_matrix), b_matrix)\n",
    "\n",
    "7. Declare the loss Function\n",
    "        loss = tf.reduce_mean(tf.square(y_actual - y_pred))\n",
    "\n",
    "8. Initialise and train the model : create instance of graph, feed data through placeholder and let tensorflow change the weights.\n",
    "        with tf.Session(graph = graph) as session :\n",
    "        ...\n",
    "        session.run()\n",
    "        ...\n",
    "\n",
    "9. Evaluate the model\n",
    "\n",
    "10. Tune the parameters\n",
    "\n",
    "11. Deploy/ predict new output"
   ]
  },
  {
   "cell_type": "markdown",
   "metadata": {},
   "source": [
    "## Tensors : \n",
    "    Tensors are the primary data structure that TensorFlow uses to operate on the computational\n",
    "    graph. We can declare these tensors as variables and or feed them in as placeholders.\n"
   ]
  },
  {
   "cell_type": "code",
   "execution_count": 2,
   "metadata": {},
   "outputs": [],
   "source": [
    "import tensorflow as tf"
   ]
  },
  {
   "cell_type": "code",
   "execution_count": 5,
   "metadata": {},
   "outputs": [
    {
     "name": "stdout",
     "output_type": "stream",
     "text": [
      "Tensor(\"Const:0\", shape=(), dtype=float32) Tensor(\"Const_1:0\", shape=(), dtype=float32)\n"
     ]
    }
   ],
   "source": [
    "node1 = tf.constant(3.0, tf.float32)\n",
    "node2 = tf.constant(4.0)\n",
    "\n",
    "print(node1, node2)"
   ]
  },
  {
   "cell_type": "code",
   "execution_count": 6,
   "metadata": {},
   "outputs": [],
   "source": [
    "sess = tf.Session()\n"
   ]
  },
  {
   "cell_type": "code",
   "execution_count": 7,
   "metadata": {},
   "outputs": [
    {
     "name": "stdout",
     "output_type": "stream",
     "text": [
      "[3.0, 4.0]\n"
     ]
    }
   ],
   "source": [
    "print(sess.run([node1, node2]))"
   ]
  },
  {
   "cell_type": "code",
   "execution_count": 8,
   "metadata": {},
   "outputs": [
    {
     "name": "stdout",
     "output_type": "stream",
     "text": [
      "node3 :  Tensor(\"Add:0\", shape=(), dtype=float32)\n"
     ]
    }
   ],
   "source": [
    "node3 = tf.add(node1, node2)\n",
    "\n",
    "print('node3 : ', node3)"
   ]
  },
  {
   "cell_type": "code",
   "execution_count": 10,
   "metadata": {},
   "outputs": [
    {
     "name": "stdout",
     "output_type": "stream",
     "text": [
      "sess.run(node3) :  7.0\n"
     ]
    }
   ],
   "source": [
    "print('sess.run(node3) : ',sess.run(node3))"
   ]
  },
  {
   "cell_type": "code",
   "execution_count": 11,
   "metadata": {},
   "outputs": [
    {
     "name": "stdout",
     "output_type": "stream",
     "text": [
      "7.0\n"
     ]
    }
   ],
   "source": [
    "print(sess.run(node1 + node2))"
   ]
  },
  {
   "cell_type": "code",
   "execution_count": 12,
   "metadata": {},
   "outputs": [
    {
     "name": "stdout",
     "output_type": "stream",
     "text": [
      "5.0\n"
     ]
    }
   ],
   "source": [
    "a = tf.placeholder(tf.float32)\n",
    "b = tf.placeholder(tf.float32)\n",
    "\n",
    "adder_node = a + b\n",
    "\n",
    "print(sess.run(adder_node, {a : 2.0, b : 3.0}))"
   ]
  },
  {
   "cell_type": "code",
   "execution_count": 13,
   "metadata": {},
   "outputs": [
    {
     "name": "stdout",
     "output_type": "stream",
     "text": [
      "[[4. 5.]\n",
      " [9. 9.]]\n"
     ]
    }
   ],
   "source": [
    "print(sess.run(adder_node, {a : [[2,1],[4,3]], b : [[2,4],[5,6]] }))"
   ]
  },
  {
   "cell_type": "code",
   "execution_count": 14,
   "metadata": {},
   "outputs": [],
   "source": [
    "sess.close()"
   ]
  },
  {
   "cell_type": "markdown",
   "metadata": {},
   "source": [
    "### First Computational Graph"
   ]
  },
  {
   "cell_type": "code",
   "execution_count": 19,
   "metadata": {},
   "outputs": [],
   "source": [
    "a = tf.constant(3.0, name='input_a')\n",
    "b = tf.constant(4.0, name='input_b')\n",
    "c = tf.multiply(a, b, name='multiply_c' )\n",
    "d = tf.add(a, b, name='add_d' )\n",
    "e = tf.add(c,d, name='add_c')\n",
    "\n",
    "sess = tf.Session()\n",
    "\n",
    "output = sess.run(e)\n",
    "writer = tf.summary.FileWriter('./my_graph', sess.graph)\n"
   ]
  },
  {
   "cell_type": "code",
   "execution_count": 21,
   "metadata": {},
   "outputs": [],
   "source": [
    "writer.close()\n",
    "sess.close()"
   ]
  },
  {
   "cell_type": "markdown",
   "metadata": {},
   "source": [
    "To see the computaional graph use\n",
    "> tensorboard --logdir=my_graph/"
   ]
  },
  {
   "cell_type": "markdown",
   "metadata": {},
   "source": [
    "![](my_graph/graph_large_attrs_key=_too_large_attrs&limit_attr_size=1024&run=.png)"
   ]
  },
  {
   "cell_type": "markdown",
   "metadata": {},
   "source": [
    "### First Regression based computational graph"
   ]
  },
  {
   "cell_type": "code",
   "execution_count": 4,
   "metadata": {},
   "outputs": [
    {
     "name": "stdout",
     "output_type": "stream",
     "text": [
      "[0.         0.3        0.6        0.90000004]\n"
     ]
    }
   ],
   "source": [
    "W = tf.Variable([0.3], tf.float32)\n",
    "b = tf.Variable([-0.3], tf.float32)\n",
    "\n",
    "x = tf.placeholder(tf.float32)\n",
    "\n",
    "linear_model = W*x + b\n",
    "\n",
    "sess = tf.Session()\n",
    "init = tf.global_variables_initializer()\n",
    "sess.run(init)\n",
    "\n",
    "print(sess.run(linear_model, {x : [1,2,3,4]}))\n"
   ]
  },
  {
   "cell_type": "code",
   "execution_count": 6,
   "metadata": {},
   "outputs": [
    {
     "name": "stdout",
     "output_type": "stream",
     "text": [
      "23.66\n"
     ]
    }
   ],
   "source": [
    "y = tf.placeholder(tf.float32)\n",
    "\n",
    "square_deltas = tf.square(linear_model - y)\n",
    "\n",
    "loss = tf.reduce_sum(square_deltas)\n",
    "\n",
    "print(sess.run(loss, {x : [1,2,3,4], y : [0,-1,-2,-3]}))"
   ]
  },
  {
   "cell_type": "code",
   "execution_count": 7,
   "metadata": {},
   "outputs": [
    {
     "data": {
      "text/plain": [
       "[array([-1.], dtype=float32), array([1.], dtype=float32)]"
      ]
     },
     "execution_count": 7,
     "metadata": {},
     "output_type": "execute_result"
    }
   ],
   "source": [
    "# Explicitely updating variables to reduce cost\n",
    "fixW = tf.assign(W, [-1.0])\n",
    "fixb = tf.assign(b, [1.0])\n",
    "\n",
    "sess.run([fixW, fixb])\n"
   ]
  },
  {
   "cell_type": "code",
   "execution_count": 8,
   "metadata": {},
   "outputs": [
    {
     "name": "stdout",
     "output_type": "stream",
     "text": [
      "0.0\n"
     ]
    }
   ],
   "source": [
    "print(sess.run(loss, {x : [1,2,3,4], y : [0,-1,-2,-3]}))"
   ]
  },
  {
   "cell_type": "code",
   "execution_count": 9,
   "metadata": {},
   "outputs": [],
   "source": [
    "# updating variables using gradient descent\n",
    "\n",
    "optimiser = tf.train.GradientDescentOptimizer(0.01)\n",
    "train = optimiser.minimize(loss)\n",
    "sess.run(init)\n",
    "    "
   ]
  },
  {
   "cell_type": "code",
   "execution_count": 10,
   "metadata": {},
   "outputs": [],
   "source": [
    "for i in range(1000):\n",
    "        sess.run(train, {x : [1,2,3,4], y : [0,-1,-2,-3]})"
   ]
  },
  {
   "cell_type": "code",
   "execution_count": 12,
   "metadata": {},
   "outputs": [
    {
     "name": "stdout",
     "output_type": "stream",
     "text": [
      "[array([-0.9999969], dtype=float32), array([0.9999908], dtype=float32)]\n"
     ]
    }
   ],
   "source": [
    "output = sess.run([W,b])\n",
    "print(output)\n",
    "writer = tf.summary.FileWriter('./my_graph1', sess.graph)\n"
   ]
  },
  {
   "cell_type": "code",
   "execution_count": 14,
   "metadata": {},
   "outputs": [],
   "source": [
    "writer.close()\n",
    "sess.close()"
   ]
  },
  {
   "cell_type": "markdown",
   "metadata": {},
   "source": [
    "![](my_graph1/graph_large_attrs_key=_too_large_attrs&limit_attr_size=1024&run=.png)"
   ]
  },
  {
   "cell_type": "code",
   "execution_count": null,
   "metadata": {},
   "outputs": [],
   "source": []
  }
 ],
 "metadata": {
  "kernelspec": {
   "display_name": "Python 3",
   "language": "python",
   "name": "python3"
  },
  "language_info": {
   "codemirror_mode": {
    "name": "ipython",
    "version": 3
   },
   "file_extension": ".py",
   "mimetype": "text/x-python",
   "name": "python",
   "nbconvert_exporter": "python",
   "pygments_lexer": "ipython3",
   "version": "3.5.2"
  }
 },
 "nbformat": 4,
 "nbformat_minor": 2
}
